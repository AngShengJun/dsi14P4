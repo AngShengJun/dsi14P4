{
 "cells": [
  {
   "cell_type": "markdown",
   "metadata": {
    "colab_type": "text",
    "id": "q7UBAjgGOdLS"
   },
   "source": [
    "### Machine Learning"
   ]
  },
  {
   "cell_type": "code",
   "execution_count": 0,
   "metadata": {
    "colab": {},
    "colab_type": "code",
    "id": "1o38MXLKN4Nq"
   },
   "outputs": [],
   "source": [
    "# wip, refactor as we firm model choices\n",
    "# Import libraries for pre-processing\n",
    "from sklearn.preprocessing import StandardScaler\n",
    "from sklearn.model_selection import train_test_split\n",
    "# Import regression models\n",
    "from sklearn.linear_model import LinearRegression\n",
    "from sklearn.neighbors import KNeighborsRegressor\n",
    "from sklearn.tree import DecisionTreeRegressor\n",
    "from sklearn.ensemble import BaggingRegressor, RandomForestRegressor, AdaBoostRegressor\n",
    "from sklearn.svm import SVR\n",
    "# Libraries for model evaluate\n",
    "from sklearn.metrics import mean_squared_error"
   ]
  },
  {
   "cell_type": "markdown",
   "metadata": {
    "colab_type": "text",
    "id": "oGaCoASpqrBl"
   },
   "source": [
    "### Import files"
   ]
  },
  {
   "cell_type": "code",
   "execution_count": 0,
   "metadata": {
    "colab": {},
    "colab_type": "code",
    "id": "ANoFpGbouagk"
   },
   "outputs": [],
   "source": [
    "# Import the files\n",
    "df_test = pd.read_csv(\"https://raw.githubusercontent.com/AngShengJun/dsi14P4/master/assets/input/test.csv\")\n",
    "df_train = pd.read_csv(\"https://raw.githubusercontent.com/AngShengJun/dsi14P4/master/assets/input/train.csv\")"
   ]
  },
  {
   "cell_type": "code",
   "execution_count": 0,
   "metadata": {
    "colab": {},
    "colab_type": "code",
    "id": "4IfGiiX7thMA"
   },
   "outputs": [],
   "source": [
    "# wip, refactor code as required\n",
    "# Scale variables\n",
    "# Only relevant for models that require scaling of variables\n",
    "scaled_df = pd.DataFrame(StandardScaler().fit_transform(df),\n",
    "                        columns = df.columns)"
   ]
  },
  {
   "cell_type": "markdown",
   "metadata": {
    "colab_type": "text",
    "id": "NBVbZ5pDuyyR"
   },
   "source": [
    "- Assign the correct X and y variables (scaled and not scaled) to appropriate regression models"
   ]
  },
  {
   "cell_type": "code",
   "execution_count": 0,
   "metadata": {
    "colab": {},
    "colab_type": "code",
    "id": "F_FhZqzTtzBO"
   },
   "outputs": [],
   "source": [
    "# Define X and y (for prediction)\n",
    "X = \n",
    "y = "
   ]
  },
  {
   "cell_type": "markdown",
   "metadata": {
    "colab_type": "text",
    "id": "67GMBFZLqdPt"
   },
   "source": [
    "### Train-Validate-Split"
   ]
  },
  {
   "cell_type": "code",
   "execution_count": 0,
   "metadata": {
    "colab": {},
    "colab_type": "code",
    "id": "G3-xk1rcrK9H"
   },
   "outputs": [],
   "source": [
    "# Train-validate-split\n",
    "X_train,X_test,y_train,y_test = train_test_split(X,y,test_size=0.3,random_state=42,stratify=True)"
   ]
  },
  {
   "cell_type": "markdown",
   "metadata": {
    "colab_type": "text",
    "id": "QnJEiKpzqdc8"
   },
   "source": [
    "### Resampling"
   ]
  },
  {
   "cell_type": "code",
   "execution_count": 0,
   "metadata": {
    "colab": {},
    "colab_type": "code",
    "id": "qodtOBHNq82M"
   },
   "outputs": [],
   "source": [
    "# Review class balance\n",
    "\n",
    "# Resampling\n",
    "\n",
    "# Check-off resampled class balance\n"
   ]
  },
  {
   "cell_type": "markdown",
   "metadata": {
    "colab_type": "text",
    "id": "6EEmu3qvq1sl"
   },
   "source": [
    "![alt text](https://)### Predict Mosquito quantity (Num_Mos)"
   ]
  },
  {
   "cell_type": "markdown",
   "metadata": {
    "colab_type": "text",
    "id": "O0oInepAroPW"
   },
   "source": [
    "### Use pipeline + Gridsearch?"
   ]
  },
  {
   "cell_type": "code",
   "execution_count": 0,
   "metadata": {
    "colab": {},
    "colab_type": "code",
    "id": "mvrjgRFDr6ch"
   },
   "outputs": [],
   "source": []
  },
  {
   "cell_type": "markdown",
   "metadata": {
    "colab_type": "text",
    "id": "MGbgPKAprS7D"
   },
   "source": [
    "*italicized text*### Classify Wnv class"
   ]
  },
  {
   "cell_type": "code",
   "execution_count": 0,
   "metadata": {
    "colab": {},
    "colab_type": "code",
    "id": "ffiqGYkjvgKN"
   },
   "outputs": [],
   "source": [
    "# wip (refactor as we firm model choice) For example XGBoost not added\n",
    "# Import classifier models\n",
    "from sklearn.linear_model import LogisticRegression\n",
    "from sklearn.neighbors import KNeighborsClassifier\n",
    "from sklearn.tree import DecisionTreeClassifier\n",
    "from sklearn.ensemble import BaggingClassifier, RandomForestClassifier, AdaBoostClassifier\n",
    "from sklearn.svm import SVC\n",
    "# Libraries for evaluate model\n",
    "from sklearn.metrics import confusion_matrix\n",
    "from sklearn.metrics import roc_auc_score"
   ]
  },
  {
   "cell_type": "code",
   "execution_count": 0,
   "metadata": {
    "colab": {},
    "colab_type": "code",
    "id": "jJHk2nj0t9Co"
   },
   "outputs": [],
   "source": [
    "# Define X and y (for classification)"
   ]
  },
  {
   "cell_type": "markdown",
   "metadata": {
    "colab_type": "text",
    "id": "e-ZBynP6IlHL"
   },
   "source": [
    "## Baseline Accuracy "
   ]
  },
  {
   "cell_type": "code",
   "execution_count": 0,
   "metadata": {
    "colab": {},
    "colab_type": "code",
    "id": "ieKl7O3MImMF"
   },
   "outputs": [],
   "source": [
    "y_test.value_counts(normalize = True)"
   ]
  },
  {
   "cell_type": "markdown",
   "metadata": {
    "colab_type": "text",
    "id": "rS3ydarRwbqT"
   },
   "source": [
    "Discuss what metric we want to optimize. F1, ROC_AUC, Sensitivity, Precision, Mis-class rate, or Specificity. \n",
    "Type II error worse right? In interest of public health, we want to minimise False Negative rate."
   ]
  },
  {
   "cell_type": "markdown",
   "metadata": {
    "colab_type": "text",
    "id": "dqc-uJOUyHP9"
   },
   "source": []
  },
  {
   "cell_type": "code",
   "execution_count": 0,
   "metadata": {
    "colab": {},
    "colab_type": "code",
    "id": "rwNoQGPCyHeA"
   },
   "outputs": [],
   "source": []
  }
 ],
 "metadata": {
  "colab": {
   "collapsed_sections": [],
   "name": "Copy of P4 Machine Learning wip.ipynb",
   "provenance": [
    {
     "file_id": "192zWqgFy8PhzuM0KE2ZSO6STKN_qio_A",
     "timestamp": 1590642613125
    }
   ]
  },
  "kernelspec": {
   "display_name": "Python 3",
   "language": "python",
   "name": "python3"
  },
  "language_info": {
   "codemirror_mode": {
    "name": "ipython",
    "version": 3
   },
   "file_extension": ".py",
   "mimetype": "text/x-python",
   "name": "python",
   "nbconvert_exporter": "python",
   "pygments_lexer": "ipython3",
   "version": "3.7.6"
  }
 },
 "nbformat": 4,
 "nbformat_minor": 1
}
